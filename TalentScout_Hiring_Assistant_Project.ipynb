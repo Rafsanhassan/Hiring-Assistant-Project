{
 "cells": [
  {
   "cell_type": "code",
   "execution_count": 11,
   "id": "1cf5e173-609e-494c-a9b8-3c3e99095bf2",
   "metadata": {},
   "outputs": [
    {
     "name": "stdin",
     "output_type": "stream",
     "text": [
      "Enter your OpenAI API Key:  dfsfsd\n"
     ]
    },
    {
     "name": "stdout",
     "output_type": "stream",
     "text": [
      "Running on local URL:  http://127.0.0.1:7867\n",
      "\n",
      "To create a public link, set `share=True` in `launch()`.\n"
     ]
    },
    {
     "data": {
      "text/html": [
       "<div><iframe src=\"http://127.0.0.1:7867/\" width=\"100%\" height=\"500\" allow=\"autoplay; camera; microphone; clipboard-read; clipboard-write;\" frameborder=\"0\" allowfullscreen></iframe></div>"
      ],
      "text/plain": [
       "<IPython.core.display.HTML object>"
      ]
     },
     "metadata": {},
     "output_type": "display_data"
    }
   ],
   "source": [
    "import gradio as gr\n",
    "from openai import OpenAI\n",
    "import os\n",
    "from typing import List, Dict\n",
    "\n",
    "class HiringAssistant:\n",
    "    def __init__(self, api_key: str):\n",
    "        self.client = OpenAI(api_key=api_key)\n",
    "        \n",
    "    def generate_technical_questions(self, tech_stack: List[str]) -> List[str]:\n",
    "        \"\"\"Generate technical questions based on candidate's tech stack\"\"\"\n",
    "        try:\n",
    "            response = self.client.chat.completions.create(\n",
    "                model=\"gpt-3.5-turbo\",\n",
    "                messages=[\n",
    "                    {\"role\": \"system\", \"content\": \"You are a technical interviewer generating targeted assessment questions.\"},\n",
    "                    {\"role\": \"user\", \"content\": f\"Generate 3-5 technical interview questions for technologies: {', '.join(tech_stack)}. Vary difficulty and assess practical understanding.\"}\n",
    "                ]\n",
    "            )\n",
    "            questions = response.choices[0].message.content.split('\\n')\n",
    "            return [q.strip() for q in questions if q.strip()]\n",
    "        except Exception as e:\n",
    "            return [f\"Error generating questions: {str(e)}\"]\n",
    "    \n",
    "    def process_application(self, \n",
    "        name: str, \n",
    "        email: str, \n",
    "        phone: str, \n",
    "        experience: str, \n",
    "        position: str, \n",
    "        location: str, \n",
    "        tech_stack: str\n",
    "    ) -> str:\n",
    "        \"\"\"Process candidate application and generate technical questions\"\"\"\n",
    "        # Validate inputs\n",
    "        if not all([name, email, phone, experience, position, location, tech_stack]):\n",
    "            return \"Please fill in all fields.\"\n",
    "        \n",
    "        # Process tech stack\n",
    "        tech_list = [tech.strip() for tech in tech_stack.split(',')]\n",
    "        \n",
    "        # Generate technical questions\n",
    "        technical_questions = self.generate_technical_questions(tech_list)\n",
    "        \n",
    "        # Compile application summary\n",
    "        summary = f\"\"\"\n",
    "        Candidate Application Details:\n",
    "        Name: {name}\n",
    "        Email: {email}\n",
    "        Phone: {phone}\n",
    "        Years of Experience: {experience}\n",
    "        Desired Position: {position}\n",
    "        Location: {location}\n",
    "        Tech Stack: {', '.join(tech_list)}\n",
    "\n",
    "        Technical Assessment Questions:\n",
    "        {chr(10).join([f'{i+1}. {q}' for i, q in enumerate(technical_questions)])}\n",
    "        \"\"\"\n",
    "        \n",
    "        return summary\n",
    "\n",
    "def launch_hiring_assistant(api_key: str):\n",
    "    \"\"\"Launch Gradio interface for Hiring Assistant\"\"\"\n",
    "    assistant = HiringAssistant(api_key)\n",
    "    \n",
    "    interface = gr.Interface(\n",
    "        fn=assistant.process_application,\n",
    "        inputs=[\n",
    "            gr.Textbox(label=\"Full Name\"),\n",
    "            gr.Textbox(label=\"Email Address\"),\n",
    "            gr.Textbox(label=\"Phone Number\"),\n",
    "            gr.Textbox(label=\"Years of Experience\"),\n",
    "            gr.Textbox(label=\"Desired Position\"),\n",
    "            gr.Textbox(label=\"Current Location\"),\n",
    "            gr.Textbox(label=\"Tech Stack (comma-separated)\")\n",
    "        ],\n",
    "        outputs=gr.Textbox(label=\"Application Summary\"),\n",
    "        title=\"TalentScout Hiring Assistant\",\n",
    "        description=\"AI-powered candidate screening for tech roles\"\n",
    "    )\n",
    "    \n",
    "    return interface\n",
    "\n",
    "def main():\n",
    "    # Prompt for API key\n",
    "    api_key = input(\"Enter your OpenAI API Key: \")\n",
    "    \n",
    "    try:\n",
    "        app = launch_hiring_assistant(api_key)\n",
    "        app.launch()\n",
    "    except Exception as e:\n",
    "        print(f\"Error launching application: {e}\")\n",
    "\n",
    "if __name__ == \"__main__\":\n",
    "    main()"
   ]
  },
  {
   "cell_type": "code",
   "execution_count": null,
   "id": "1187bba3-366f-4478-8a10-f94020bf6c17",
   "metadata": {},
   "outputs": [],
   "source": []
  }
 ],
 "metadata": {
  "kernelspec": {
   "display_name": "Python 3 (ipykernel)",
   "language": "python",
   "name": "python3"
  },
  "language_info": {
   "codemirror_mode": {
    "name": "ipython",
    "version": 3
   },
   "file_extension": ".py",
   "mimetype": "text/x-python",
   "name": "python",
   "nbconvert_exporter": "python",
   "pygments_lexer": "ipython3",
   "version": "3.8.20"
  }
 },
 "nbformat": 4,
 "nbformat_minor": 5
}
